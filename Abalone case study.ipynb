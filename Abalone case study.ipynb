{
 "cells": [
  {
   "cell_type": "code",
   "execution_count": null,
   "id": "3e249ceb",
   "metadata": {},
   "outputs": [],
   "source": [
    "import numpy as np\n",
    "import pandas as pd\n",
    "\n",
    "import matplotlib.pyplot as plt\n",
    "import seaborn as sns"
   ]
  },
  {
   "cell_type": "code",
   "execution_count": null,
   "id": "123a11e4",
   "metadata": {},
   "outputs": [],
   "source": [
    "# reading the data\n",
    "\n",
    "data = pd.read_csv('C:\\Users\\PC\\Downloads\\archive/abalone/abalone.csv')\n",
    "\n",
    "# getting the shape\n",
    "data.shape"
   ]
  },
  {
   "cell_type": "code",
   "execution_count": null,
   "id": "d155081e",
   "metadata": {},
   "outputs": [],
   "source": [
    "# looking at the head of the data\n",
    "\n",
    "data.head()"
   ]
  },
  {
   "cell_type": "code",
   "execution_count": null,
   "id": "e57a43b6",
   "metadata": {},
   "outputs": [],
   "source": [
    "# describe the data\n",
    "\n",
    "data.describe()"
   ]
  },
  {
   "cell_type": "code",
   "execution_count": null,
   "id": "5d230f58",
   "metadata": {},
   "outputs": [],
   "source": [
    "# information of the data\n",
    "\n",
    "data.info()"
   ]
  },
  {
   "cell_type": "code",
   "execution_count": null,
   "id": "0fd38d09",
   "metadata": {},
   "outputs": [],
   "source": [
    "# checking if there is any NULL data \n",
    "\n",
    "data.isnull().sum()"
   ]
  },
  {
   "cell_type": "code",
   "execution_count": null,
   "id": "294f5c8e",
   "metadata": {},
   "outputs": [],
   "source": [
    "# pairplot\n",
    "\n",
    "sns.pairplot(data)"
   ]
  },
  {
   "cell_type": "code",
   "execution_count": null,
   "id": "93d4f5c4",
   "metadata": {},
   "outputs": [],
   "source": [
    "# checking the columns of the data\n",
    "\n",
    "data.columns"
   ]
  },
  {
   "cell_type": "code",
   "execution_count": null,
   "id": "802d562d",
   "metadata": {},
   "outputs": [],
   "source": [
    "# heatmap\n",
    "\n",
    "sns.heatmap(data[[ 'Length', 'Diameter', 'Height', 'Whole weight', 'Shucked weight',\n",
    "       'Viscera weight', 'Shell weight', 'Rings']])"
   ]
  },
  {
   "cell_type": "code",
   "execution_count": null,
   "id": "21dc387a",
   "metadata": {},
   "outputs": [],
   "source": [
    "# checkig the values of sex\n",
    "\n",
    "data['Sex'].value_counts()"
   ]
  },
  {
   "cell_type": "code",
   "execution_count": null,
   "id": "6050e2ee",
   "metadata": {},
   "outputs": [],
   "source": [
    "# plotting a hue plot\n",
    "\n",
    "plt.rcParams['figure.figsize'] = (18, 8)\n",
    "sns.boxplot(data['Rings'], data['Length'], hue = data['Sex'], palette = 'pastel')\n",
    "plt.title('Rings vs length and sex', fontsize = 20)"
   ]
  },
  {
   "cell_type": "code",
   "execution_count": null,
   "id": "3d9a3cd6",
   "metadata": {},
   "outputs": [],
   "source": [
    "# rings vs diameter and sex\n",
    "\n",
    "plt.rcParams['figure.figsize'] = (20, 8)\n",
    "sns.violinplot(data['Rings'], data['Diameter'], hue = data['Sex'], palette = 'Set1')\n",
    "plt.title('Rings vs diameter and sex', fontsize = 20)"
   ]
  },
  {
   "cell_type": "code",
   "execution_count": null,
   "id": "ff956c47",
   "metadata": {},
   "outputs": [],
   "source": [
    "# rings vs height and sex\n",
    "\n",
    "plt.rcParams['figure.figsize'] = (18, 8)\n",
    "sns.boxenplot(data['Rings'], data['Height'], hue = data['Sex'], palette = 'Set2')\n",
    "plt.title('Rings vs height and sex', fontsize = 20)"
   ]
  },
  {
   "cell_type": "code",
   "execution_count": null,
   "id": "ff88d887",
   "metadata": {},
   "outputs": [],
   "source": [
    "# ring vs weight\n",
    "\n",
    "plt.rcParams['figure.figsize'] = (18, 10)\n",
    "sns.swarmplot(data['Rings'], data['Whole weight'])\n",
    "plt.title('Rings vs weight')"
   ]
  },
  {
   "cell_type": "code",
   "execution_count": null,
   "id": "4d8eda47",
   "metadata": {},
   "outputs": [],
   "source": [
    "# ring vs shucked weight\n",
    "\n",
    "plt.rcParams['figure.figsize'] = (18, 10)\n",
    "sns.swarmplot(data['Rings'], data['Shucked weight'], palette = 'dark')\n",
    "plt.title('Rings vs shucked weight')"
   ]
  },
  {
   "cell_type": "code",
   "execution_count": null,
   "id": "8428b08b",
   "metadata": {},
   "outputs": [],
   "source": [
    "# ring vs viscera weight\n",
    "\n",
    "plt.rcParams['figure.figsize'] = (18, 10)\n",
    "sns.stripplot(data['Rings'], data['Viscera weight'])\n",
    "plt.title('Rings vs Viscera Weight')"
   ]
  },
  {
   "cell_type": "code",
   "execution_count": null,
   "id": "d6d06651",
   "metadata": {},
   "outputs": [],
   "source": [
    "# ring vs shell weight\n",
    "\n",
    "plt.rcParams['figure.figsize'] = (18, 10)\n",
    "sns.regplot(data['Rings'], data['Shell weight'])\n",
    "plt.title('Rings vs Shell weight')"
   ]
  },
  {
   "cell_type": "code",
   "execution_count": null,
   "id": "7b17c857",
   "metadata": {},
   "outputs": [],
   "source": [
    "from math import pi\n",
    "\n",
    "# Set data\n",
    "df = pd.DataFrame({\n",
    "'group': [i for i in range(0, 4177)],\n",
    "'Sex': data['Sex'],\n",
    "'Length': data['Length'],\n",
    "'Diameter': data['Diameter'],\n",
    "'Whole weight':  data['Whole weight'],\n",
    "'Viscera weight': data['Viscera weight'],\n",
    "'Shell weight': data['Shell weight']\n",
    "})\n",
    " \n",
    "# number of variable\n",
    "categories=list(df)[1:]\n",
    "N = len(categories)\n",
    " \n",
    "# We are going to plot the first line of the data frame.\n",
    "# But we need to repeat the first value to close the circular graph:\n",
    "values = df.loc[0].drop('group').values.flatten().tolist()\n",
    "values += values[:1]\n",
    "values\n",
    " \n",
    "# What will be the angle of each axis in the plot? (we divide the plot / number of variable)\n",
    "angles = [n / float(N) * 2 * pi for n in range(N)]\n",
    "angles += angles[:1]\n",
    " \n",
    "# Initialise the spider plot\n",
    "ax = plt.subplot(111, polar=True)\n",
    " \n",
    "# Draw one axe per variable + add labels labels yet\n",
    "plt.xticks(angles[:-1], categories, color='grey', size=8)\n",
    "# Draw ylabels\n",
    "ax.set_rlabel_position(0)\n",
    "plt.yticks([10,20,30], [\"10\",\"20\",\"30\"], color=\"grey\", size=7)\n",
    "plt.ylim(0,40)\n",
    " \n",
    "# Plot data\n",
    "ax.plot(angles, values, linewidth=1, linestyle='solid')\n",
    "plt.title('Radar Chart for determing Importances of Features', fontsize = 20) \n",
    "# Fill area\n",
    "ax.fill(angles, values, 'red', alpha=0.1) "
   ]
  },
  {
   "cell_type": "code",
   "execution_count": null,
   "id": "e2c5593b",
   "metadata": {},
   "outputs": [],
   "source": [
    "'''\n",
    "from sklearn.preprocessing import LabelEncoder\n",
    "\n",
    "le = LabelEncoder()\n",
    "data['Sex'] = le.fit_transform(data['Sex'])\n",
    "\n",
    "data['Sex'].value_counts()\n",
    "'''\n",
    "\n",
    "data = pd.get_dummies(data)"
   ]
  },
  {
   "cell_type": "code",
   "execution_count": null,
   "id": "a81dcb13",
   "metadata": {},
   "outputs": [],
   "source": [
    "# splitting the dependent and independent variables\n",
    "\n",
    "y = data['Rings']\n",
    "data = data.drop(['Rings'], axis = 1)\n",
    "x = data\n",
    "\n",
    "# getting the shapes\n",
    "print(\"Shape of x:\", x.shape)\n",
    "print(\"Shape of y:\", y.shape)"
   ]
  },
  {
   "cell_type": "code",
   "execution_count": null,
   "id": "93b19ea0",
   "metadata": {},
   "outputs": [],
   "source": [
    "# train test split\n",
    "\n",
    "from sklearn.model_selection import train_test_split\n",
    "\n",
    "x_train, x_test, y_train, y_test = train_test_split(x, y, test_size = 0.2, random_state = 0)\n",
    "\n",
    "# getting the shapes\n",
    "print(\"Shape of x_train :\", x_train.shape)\n",
    "print(\"Shape of x_test :\", x_test.shape)\n",
    "print(\"Shape of y_train :\", y_train.shape)\n",
    "print(\"Shape of y_test :\", y_test.shape)"
   ]
  },
  {
   "cell_type": "code",
   "execution_count": null,
   "id": "4f1fed6e",
   "metadata": {},
   "outputs": [],
   "source": [
    "# MODELLING\n",
    "# RANDOM FOREST REGRESSOR\n",
    "\n",
    "from sklearn.ensemble import RandomForestClassifier\n",
    "from sklearn.metrics import mean_squared_error\n",
    "from sklearn.metrics import r2_score\n",
    "\n",
    "model = RandomForestClassifier()\n",
    "model.fit(x_train, y_train)\n",
    "y_pred = model.predict(x_test)\n",
    "\n",
    "# evaluation\n",
    "mse = mean_squared_error(y_test, y_pred)\n",
    "rmse = np.sqrt(mse)\n",
    "print(\"RMSE :\", rmse)\n",
    "\n",
    "# r2 score\n",
    "r2 = r2_score(y_test, y_pred)\n",
    "print(\"R2 Score :\", r2)"
   ]
  },
  {
   "cell_type": "code",
   "execution_count": null,
   "id": "5c54cd33",
   "metadata": {},
   "outputs": [],
   "source": [
    "!pip install eli5"
   ]
  },
  {
   "cell_type": "code",
   "execution_count": null,
   "id": "4f9ef238",
   "metadata": {},
   "outputs": [],
   "source": [
    "# let's check the importance of each attributes\n",
    "\n",
    "\n",
    "#for purmutation importance\n",
    "import eli5 \n",
    "from eli5.sklearn import PermutationImportance\n",
    "\n",
    "perm = PermutationImportance(model, random_state = 0).fit(x_test, y_test)\n",
    "eli5.show_weights(perm, feature_names = x_test.columns.tolist())"
   ]
  }
 ],
 "metadata": {
  "kernelspec": {
   "display_name": "Python 3",
   "language": "python",
   "name": "python3"
  },
  "language_info": {
   "codemirror_mode": {
    "name": "ipython",
    "version": 3
   },
   "file_extension": ".py",
   "mimetype": "text/x-python",
   "name": "python",
   "nbconvert_exporter": "python",
   "pygments_lexer": "ipython3",
   "version": "3.8.8"
  }
 },
 "nbformat": 4,
 "nbformat_minor": 5
}
